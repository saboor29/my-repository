{
 "cells": [
  {
   "cell_type": "code",
   "execution_count": 1,
   "metadata": {},
   "outputs": [
    {
     "name": "stdin",
     "output_type": "stream",
     "text": [
      "enter marks of subject 1 60\n",
      "enter marks of subject 2 60\n",
      "enter marks of subject 3 60\n",
      "enter marks of subject 4 60\n",
      "enter marks of subject 5 60\n"
     ]
    },
    {
     "name": "stdout",
     "output_type": "stream",
     "text": [
      "marks obtain out of 500 is 300\n",
      "percentage = 60.0\n",
      "Grade = B\n"
     ]
    }
   ],
   "source": [
    "m1 = int(input(\"enter marks of subject 1\"))\n",
    "m2 = int(input(\"enter marks of subject 2\"))\n",
    "m3 = int(input(\"enter marks of subject 3\"))\n",
    "m4 = int(input(\"enter marks of subject 4\"))\n",
    "m5 = int(input(\"enter marks of subject 5\"))\n",
    "obt=m1+m2+m3+m4+m5\n",
    "print (\"marks obtain out of 500 is\",obt)\n",
    "per=obt/500*100\n",
    "print (\"percentage =\",per)\n",
    "if per>=80:\n",
    "    print (\"GRADE = A+\")\n",
    "elif per>=70 and per<=79:\n",
    "    print(\"GRADE =A\")\n",
    "elif per>=60 and per<=69:\n",
    "    print(\"Grade = B\")\n",
    "elif per>=50 and per<=59:\n",
    "    print(\"Grade = C\")\n",
    "elif per>=40 and per<=49:\n",
    "    print(\"Grade = D\")\n",
    "else:\n",
    "    print (\"FAIL\")"
   ]
  },
  {
   "cell_type": "code",
   "execution_count": 4,
   "metadata": {},
   "outputs": [
    {
     "name": "stdin",
     "output_type": "stream",
     "text": [
      "enter any number 3\n"
     ]
    },
    {
     "name": "stdout",
     "output_type": "stream",
     "text": [
      "number is odd\n"
     ]
    }
   ],
   "source": [
    "a=int(input(\"enter any number\"))\n",
    "if a%2==0:\n",
    "    print(\"number is even\")\n",
    "else:\n",
    "    print(\"number is odd\")"
   ]
  },
  {
   "cell_type": "code",
   "execution_count": 12,
   "metadata": {},
   "outputs": [
    {
     "data": {
      "text/plain": [
       "9"
      ]
     },
     "execution_count": 12,
     "metadata": {},
     "output_type": "execute_result"
    }
   ],
   "source": [
    "arr=[1,2,3,4,5,6,7,8,9]\n",
    "len(arr)"
   ]
  },
  {
   "cell_type": "code",
   "execution_count": 21,
   "metadata": {},
   "outputs": [
    {
     "name": "stdout",
     "output_type": "stream",
     "text": [
      "54\n"
     ]
    }
   ],
   "source": [
    "arr=[1,2,3,4,5,6,7,8,9]\n",
    "x=len(arr)\n",
    "a=sum(arr,x)\n",
    "print (a)"
   ]
  },
  {
   "cell_type": "code",
   "execution_count": 8,
   "metadata": {},
   "outputs": [
    {
     "data": {
      "text/plain": [
       "9"
      ]
     },
     "execution_count": 8,
     "metadata": {},
     "output_type": "execute_result"
    }
   ],
   "source": [
    "arr=[1,2,3,4,5,6,7,8,9]\n",
    "max(arr)"
   ]
  },
  {
   "cell_type": "code",
   "execution_count": 13,
   "metadata": {},
   "outputs": [
    {
     "data": {
      "text/plain": [
       "[1, 1, 2, 3, 5]"
      ]
     },
     "execution_count": 13,
     "metadata": {},
     "output_type": "execute_result"
    }
   ],
   "source": [
    "a = [1, 1, 2, 3, 5, 8, 13, 21, 34, 55, 89]\n",
    "a[0:5]\n"
   ]
  },
  {
   "cell_type": "code",
   "execution_count": null,
   "metadata": {},
   "outputs": [],
   "source": []
  }
 ],
 "metadata": {
  "kernelspec": {
   "display_name": "Python 3",
   "language": "python",
   "name": "python3"
  },
  "language_info": {
   "codemirror_mode": {
    "name": "ipython",
    "version": 3
   },
   "file_extension": ".py",
   "mimetype": "text/x-python",
   "name": "python",
   "nbconvert_exporter": "python",
   "pygments_lexer": "ipython3",
   "version": "3.7.4"
  }
 },
 "nbformat": 4,
 "nbformat_minor": 4
}
