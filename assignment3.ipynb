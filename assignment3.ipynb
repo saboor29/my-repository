{
 "cells": [
  {
   "cell_type": "code",
   "execution_count": 1,
   "metadata": {},
   "outputs": [
    {
     "name": "stdin",
     "output_type": "stream",
     "text": [
      "rnter first number 1\n",
      "enter second number 2\n",
      "enter operator **\n"
     ]
    },
    {
     "name": "stdout",
     "output_type": "stream",
     "text": [
      "answer = 1\n"
     ]
    }
   ],
   "source": [
    "n1=int(input('rnter first number'))\n",
    "n2=int(input('enter second number'))\n",
    "op=input('enter operator')\n",
    "if op == '+':\n",
    "    ans=n1+n2\n",
    "    print ('answer =',ans)\n",
    "elif op == '-':\n",
    "    ans=n1-n2\n",
    "    print ('answer =',ans)\n",
    "elif op == '*':\n",
    "    ans=n1*n2\n",
    "    print ('answer =',ans)\n",
    "elif op == '/':\n",
    "    ans=n1/n2\n",
    "    print ('answer =',ans)\n",
    "elif op == '**':\n",
    "    ans=n1**n2\n",
    "    print ('answer =',ans)\n",
    "else:\n",
    "        print(\"enter correct operator\")\n",
    "        "
   ]
  },
  {
   "cell_type": "code",
   "execution_count": 1,
   "metadata": {},
   "outputs": [
    {
     "name": "stdout",
     "output_type": "stream",
     "text": [
      "The original list : ['Rs.3', 'Rs.108', 'Rs.90', 'Rs.120', 'Rs.180', 'Rs.324']\n",
      "The list after extracting numbers : [3, 108, 90, 120, 180, 324]\n"
     ]
    }
   ],
   "source": [
    "#2. Write a program to check if there is any numeric value in list using for loop\n",
    "test_list = [ 'Rs.3','Rs.108','Rs.90',\"Rs.120\",\"Rs.180\",\"Rs.324\"]\n",
    "print(\"The original list : \" + str(test_list))\n",
    "res = [int(sub.split('.')[1])for sub in test_list]\n",
    "print(\"The list after extracting numbers : \"+str(res))\n",
    "        "
   ]
  },
  {
   "cell_type": "code",
   "execution_count": 2,
   "metadata": {},
   "outputs": [
    {
     "name": "stdout",
     "output_type": "stream",
     "text": [
      "{'Name': 'saboor', 'age': '20', 'Section': 'E'}\n",
      "{'Name': 'saboor', 'age': '20', 'Section': 'E', 'Email': 'saboorchundriger4@gmail.com'}\n"
     ]
    }
   ],
   "source": [
    "#3. Write a Python script to add a key to a dictionary\n",
    "Student = {\"Name\":\"saboor\",\"age\":\"20\",\"Section\":\"E\"}\n",
    "print(Student)\n",
    "Student.update({\"Email\":\"saboorchundriger4@gmail.com\"})\n",
    "print(Student)"
   ]
  },
  {
   "cell_type": "code",
   "execution_count": 3,
   "metadata": {},
   "outputs": [
    {
     "name": "stdout",
     "output_type": "stream",
     "text": [
      "{'1': 1, '2': 2, '3': 3, '4': 4, '5': 5}\n",
      "Sum of all the numeric values in the dictionary is :  15\n"
     ]
    }
   ],
   "source": [
    "#4. Write a Python program to sum all the numeric items in a dictionary.\n",
    "x = {'1':1,'2':2,'3':3,'3':3,'4':4,'5':5}\n",
    "print(x)\n",
    "sum_of_x = sum(x.values())\n",
    "print(\"Sum of all the numeric values in the dictionary is : \",sum_of_x)"
   ]
  },
  {
   "cell_type": "code",
   "execution_count": 4,
   "metadata": {},
   "outputs": [
    {
     "name": "stdout",
     "output_type": "stream",
     "text": [
      "[3, 6, 9]\n"
     ]
    }
   ],
   "source": [
    "#5. Write a program to identify duplicate values from list\n",
    "def Repeat(x): \n",
    "    _size = len(x) \n",
    "    repeated = [] \n",
    "    for i in range(_size):\n",
    "        k = i + 1\n",
    "        for j in range(k, _size): \n",
    "            if x[i] == x[j] and x[i] not in repeated: \n",
    "                repeated.append(x[i]) \n",
    "    return repeated \n",
    "list1 = [1,2,3,3,4,5,3,6,6,7,6,8,9,9]\n",
    "print(Repeat(list1))"
   ]
  },
  {
   "cell_type": "code",
   "execution_count": 5,
   "metadata": {},
   "outputs": [
    {
     "name": "stdin",
     "output_type": "stream",
     "text": [
      " 3\n"
     ]
    },
    {
     "name": "stdout",
     "output_type": "stream",
     "text": [
      "yes, this key already exist in dictionary\n"
     ]
    }
   ],
   "source": [
    "#6. Write a Python script to check if a given key already exists in a dictionary\n",
    "d = {3: 12, 6: 15, 9: 18, 12: 21, 15: 24, 18: 108}\n",
    "x = int(input())\n",
    "if x in d:\n",
    "    print(\"yes, this key already exist in dictionary\")\n",
    "else:\n",
    "    print(\"No, it don't exist\")"
   ]
  },
  {
   "cell_type": "code",
   "execution_count": null,
   "metadata": {},
   "outputs": [],
   "source": []
  }
 ],
 "metadata": {
  "kernelspec": {
   "display_name": "Python 3",
   "language": "python",
   "name": "python3"
  },
  "language_info": {
   "codemirror_mode": {
    "name": "ipython",
    "version": 3
   },
   "file_extension": ".py",
   "mimetype": "text/x-python",
   "name": "python",
   "nbconvert_exporter": "python",
   "pygments_lexer": "ipython3",
   "version": "3.7.4"
  }
 },
 "nbformat": 4,
 "nbformat_minor": 4
}
